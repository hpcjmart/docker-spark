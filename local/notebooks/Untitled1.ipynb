{
 "cells": [
  {
   "cell_type": "code",
   "execution_count": 11,
   "id": "23dce16e-95dd-4679-9b04-45c1c7ce1ecc",
   "metadata": {
    "tags": []
   },
   "outputs": [
    {
     "name": "stdout",
     "output_type": "stream",
     "text": [
      "Requirement already satisfied: pip in /usr/local/lib/python3.10/site-packages (22.3.1)\n",
      "Collecting pip\n",
      "  Downloading pip-24.0-py3-none-any.whl (2.1 MB)\n",
      "\u001b[2K     \u001b[90m━━━━━━━━━━━━━━━━━━━━━━━━━━━━━━━━━━━━━━━━\u001b[0m \u001b[32m2.1/2.1 MB\u001b[0m \u001b[31m7.0 MB/s\u001b[0m eta \u001b[36m0:00:00\u001b[0ma \u001b[36m0:00:01\u001b[0m\n",
      "\u001b[?25hInstalling collected packages: pip\n",
      "  Attempting uninstall: pip\n",
      "    Found existing installation: pip 22.3.1\n",
      "    Uninstalling pip-22.3.1:\n",
      "      Successfully uninstalled pip-22.3.1\n",
      "Successfully installed pip-24.0\n",
      "\u001b[33mWARNING: Running pip as the 'root' user can result in broken permissions and conflicting behaviour with the system package manager. It is recommended to use a virtual environment instead: https://pip.pypa.io/warnings/venv\u001b[0m\u001b[33m\n",
      "\u001b[0m"
     ]
    }
   ],
   "source": [
    "!pip3 install --upgrade pip"
   ]
  },
  {
   "cell_type": "code",
   "execution_count": 15,
   "id": "d2bc3c12-070e-4064-bde9-dff2fad91791",
   "metadata": {
    "tags": []
   },
   "outputs": [
    {
     "name": "stdout",
     "output_type": "stream",
     "text": [
      "\u001b[31mERROR: Could not find a version that satisfies the requirement commands (from versions: none)\u001b[0m\u001b[31m\n",
      "\u001b[0m\u001b[31mERROR: No matching distribution found for commands\u001b[0m\u001b[31m\n",
      "\u001b[0mNote: you may need to restart the kernel to use updated packages.\n"
     ]
    }
   ],
   "source": [
    "pip install commands"
   ]
  },
  {
   "cell_type": "code",
   "execution_count": 16,
   "id": "43f1c588-ec78-4a6c-91f7-900f9b642a09",
   "metadata": {
    "tags": []
   },
   "outputs": [
    {
     "ename": "ModuleNotFoundError",
     "evalue": "No module named 'kerberos'",
     "output_type": "error",
     "traceback": [
      "\u001b[0;31m---------------------------------------------------------------------------\u001b[0m",
      "\u001b[0;31mModuleNotFoundError\u001b[0m                       Traceback (most recent call last)",
      "Cell \u001b[0;32mIn[16], line 5\u001b[0m\n\u001b[1;32m      3\u001b[0m \u001b[38;5;28;01mimport\u001b[39;00m \u001b[38;5;21;01mos\u001b[39;00m\n\u001b[1;32m      4\u001b[0m \u001b[38;5;28;01mimport\u001b[39;00m \u001b[38;5;21;01msys\u001b[39;00m\n\u001b[0;32m----> 5\u001b[0m \u001b[38;5;28;01mimport\u001b[39;00m \u001b[38;5;21;01mkerberos\u001b[39;00m\n\u001b[1;32m      7\u001b[0m node \u001b[38;5;241m=\u001b[39m \u001b[38;5;124m\"\u001b[39m\u001b[38;5;124m192.168.66.22:9000\u001b[39m\u001b[38;5;124m\"\u001b[39m\n\u001b[1;32m      8\u001b[0m \u001b[38;5;28mprint\u001b[39m (node)\n",
      "\u001b[0;31mModuleNotFoundError\u001b[0m: No module named 'kerberos'"
     ]
    }
   ],
   "source": [
    "import requests\n",
    "import json\n",
    "import os\n",
    "import sys\n",
    "import kerberos\n",
    "\n",
    "node = \"192.168.66.22:9000\"\n",
    "print (node)\n",
    "\n",
    "local_file_path = \"prueba\"\n",
    "remote_file_path = \"input/README.txt\"\n",
    "print (local_file_path,remote_file_path)\n",
    "\n",
    "def check_node_status(node):\n",
    "        for name in node:\n",
    "                print (name)\n",
    "                request = requests.get(\"%s/jmx?qry=Hadoop:service=NameNode,name=NameNodeStatus\"%name,\n",
    "                                                           verify=False).json()\n",
    "                status = request[\"beans\"][0][\"State\"]\n",
    "                #print (name)\n",
    "                #print (status)\n",
    "                if status ==\"active\":\n",
    "                        print (name)\n",
    "                        print (status)\n",
    "                        break\n",
    "        return status,name\n",
    "def kerberos_auth():\n",
    "        __, krb_context = kerberos.authGSSClientInit(\"HTTP@hdfs_server\")\n",
    "        kerberos.authGSSClientStep(krb_context, \"\")\n",
    "        negotiate_details = kerberos.authGSSClientResponse(krb_context)\n",
    "        headers = {\"Authorization\": \"Negotiate \" + negotiate_details,\n",
    "                    \"Content-Type\":\"application/binary\"}\n",
    "        return headers\n",
    "\n",
    "def kerberos_hdfs_upload(status,name,headers):\n",
    "        if status ==\"active\":\n",
    "                data=open('%s'%local_file_path, 'rb').read()\n",
    "                write_req = requests.put(\"%s/webhdfs/v1%s?op=CREATE&overwrite=true\"%(name,remote_file_path),\n",
    "                                         headers=headers,\n",
    "                                         verify=False, \n",
    "                                         allow_redirects=True,\n",
    "                                         data=data)\n",
    "                print(write_req.text)\n",
    "\n",
    "def kerberos_hdfs_read(status,name,headers):\n",
    "        print(status)\n",
    "        if status == \"active\":\n",
    "                read = requests.get(\"%s/webhdfs/v1%s?op=OPEN\"%(name,remote_file_path),\n",
    "                                                        headers=headers,\n",
    "                                    verify=False,\n",
    "                                    allow_redirects=True)\n",
    "\n",
    "                if read.status_code == 200:\n",
    "                        data=open('%s'%local_file_path, 'wb')\n",
    "                        data.write(read.content)\n",
    "                        data.close()\n",
    "                else : \n",
    "                        print(read.content)\n",
    "\n",
    "\n",
    "status, name= check_node_status(node)\n",
    "headers = kerberos_auth()\n",
    "if read_or_write == \"write\":\n",
    "        kerberos_hdfs_upload(status,name,headers)\n",
    "elif read_or_write == \"read\":\n",
    "        print(\"fun\")\n",
    "        kerberos_hdfs_read(status,name,headers)"
   ]
  },
  {
   "cell_type": "code",
   "execution_count": null,
   "id": "8df7e823-5659-44cc-8328-43d37b2d0c7e",
   "metadata": {},
   "outputs": [],
   "source": []
  }
 ],
 "metadata": {
  "kernelspec": {
   "display_name": "Python 3 (ipykernel)",
   "language": "python",
   "name": "python3"
  },
  "language_info": {
   "codemirror_mode": {
    "name": "ipython",
    "version": 3
   },
   "file_extension": ".py",
   "mimetype": "text/x-python",
   "name": "python",
   "nbconvert_exporter": "python",
   "pygments_lexer": "ipython3",
   "version": "3.10.9"
  }
 },
 "nbformat": 4,
 "nbformat_minor": 5
}
