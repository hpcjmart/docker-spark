{
 "cells": [
  {
   "cell_type": "markdown",
   "id": "7a727d51",
   "metadata": {},
   "source": [
    "# Read Partitioned Data in Parquet Format and Write Updates #\n",
    "This notebook demostrates reading partitioned data, partition filter operations and writing updated partitions back to the storage layer.  \n",
    "  \n",
    "This notebook is dependant on the output data created by the notebook `creditcard_hash_anonymize.ipnyb`\n"
   ]
  },
  {
   "cell_type": "code",
   "execution_count": 1,
   "id": "b034ec75",
   "metadata": {},
   "outputs": [
    {
     "name": "stderr",
     "output_type": "stream",
     "text": [
      "Using Spark's default log4j profile: org/apache/spark/log4j-defaults.properties\n",
      "Setting default log level to \"WARN\".\n",
      "To adjust logging level use sc.setLogLevel(newLevel). For SparkR, use setLogLevel(newLevel).\n",
      "24/02/12 16:02:17 WARN NativeCodeLoader: Unable to load native-hadoop library for your platform... using builtin-java classes where applicable\n"
     ]
    }
   ],
   "source": [
    "from pyspark.sql import SparkSession\n",
    "spark = SparkSession.\\\n",
    "        builder.\\\n",
    "        appName(\"hash_anon_partitions\").\\\n",
    "        master(\"spark://spark-master:7077\").\\\n",
    "        config(\"spark.executor.memory\", \"512m\").\\\n",
    "        config(\"spark.eventLog.enabled\", \"true\").\\\n",
    "        config(\"spark.eventLog.dir\", \"file:///opt/workspace/events\").\\\n",
    "        getOrCreate()      "
   ]
  },
  {
   "cell_type": "markdown",
   "id": "ac39813d",
   "metadata": {},
   "source": [
    "# Read Parquet Data #\n",
    "\n",
    "### Configuration Setting to allow partition writes back ###\n",
    "Missing this configuration option results in\n",
    "\n",
    "```\n",
    "java.io.FileNotFoundException ...   \n",
    "It is possible the underlying files have been updated. You can explicitly invalidate the cache in Spark by running 'REFRESH TABLE tableName' command in SQL or by recreating the Dataset/DataFrame involved.\n",
    "```\n",
    "\n",
    "AND *all the data in the updated partition is deleted*"
   ]
  },
  {
   "cell_type": "code",
   "execution_count": 2,
   "id": "7ddee161",
   "metadata": {},
   "outputs": [],
   "source": [
    "spark.conf.set('spark.sql.sources.partitionOverwriteMode', 'dynamic')"
   ]
  },
  {
   "cell_type": "markdown",
   "id": "9c25c2ad",
   "metadata": {},
   "source": [
    "### Demonstrate Partition Filtering ###\n",
    "Without Parquet filter by partition, we scan 132 partitions:"
   ]
  },
  {
   "cell_type": "code",
   "execution_count": 3,
   "id": "04fc8691",
   "metadata": {},
   "outputs": [
    {
     "name": "stderr",
     "output_type": "stream",
     "text": [
      "                                                                                \r"
     ]
    },
    {
     "name": "stdout",
     "output_type": "stream",
     "text": [
      "== Physical Plan ==\n",
      "*(1) ColumnarToRow\n",
      "+- FileScan parquet [card_type#0,bank#1,card_number#2,card_holder#3,expiry_date#4,billing_date#5,credit_limit#6,issue_year#7,issue_month#8] Batched: true, DataFilters: [], Format: Parquet, Location: InMemoryFileIndex(1 paths)[file:/opt/workspace/dataout/credit-cards], PartitionFilters: [], PushedFilters: [], ReadSchema: struct<card_type:string,bank:string,card_number:string,card_holder:string,expiry_date:string,bill...\n",
      "\n",
      "\n"
     ]
    }
   ],
   "source": [
    "df_read = spark.read.parquet(\"/opt/workspace/dataout/credit-cards/\").explain()"
   ]
  },
  {
   "cell_type": "markdown",
   "id": "96ab2b2f",
   "metadata": {},
   "source": [
    "With a filter by year, we only scan PartitionCount: 12 (12 months)"
   ]
  },
  {
   "cell_type": "code",
   "execution_count": 4,
   "id": "05119da0",
   "metadata": {},
   "outputs": [
    {
     "name": "stderr",
     "output_type": "stream",
     "text": [
      "[Stage 1:>                                                          (0 + 1) / 1]\r"
     ]
    },
    {
     "name": "stdout",
     "output_type": "stream",
     "text": [
      "== Physical Plan ==\n",
      "*(1) ColumnarToRow\n",
      "+- FileScan parquet [card_type#18,bank#19,card_number#20,card_holder#21,expiry_date#22,billing_date#23,credit_limit#24,issue_month#25] Batched: true, DataFilters: [], Format: Parquet, Location: InMemoryFileIndex(1 paths)[file:/opt/workspace/dataout/credit-cards/issue_year=2013], PartitionFilters: [], PushedFilters: [], ReadSchema: struct<card_type:string,bank:string,card_number:string,card_holder:string,expiry_date:string,bill...\n",
      "\n",
      "\n"
     ]
    },
    {
     "name": "stderr",
     "output_type": "stream",
     "text": [
      "                                                                                \r"
     ]
    }
   ],
   "source": [
    "df_read = spark.read.parquet(\"/opt/workspace/dataout/credit-cards/issue_year=2013\").explain()"
   ]
  },
  {
   "cell_type": "markdown",
   "id": "ae794d49",
   "metadata": {},
   "source": [
    "### Read in Partition Data for year 2013 ###"
   ]
  },
  {
   "cell_type": "code",
   "execution_count": 5,
   "id": "69bc736a",
   "metadata": {},
   "outputs": [],
   "source": [
    "# Use the basePath option to stop the partition column from being dropped\n",
    "df_read = spark.read.option(\"basePath\", \"/opt/workspace/dataout/credit-cards/\").parquet(\"/opt/workspace/dataout/credit-cards/issue_year=2013\")"
   ]
  },
  {
   "cell_type": "markdown",
   "id": "deb86b3e",
   "metadata": {},
   "source": [
    "# Save updates to a Partition #"
   ]
  },
  {
   "cell_type": "code",
   "execution_count": 7,
   "id": "358bb8e1",
   "metadata": {},
   "outputs": [
    {
     "name": "stdout",
     "output_type": "stream",
     "text": [
      "+--------------------+----------------+--------------------+--------------------+-----------+------------+------------+----------+-----------+\n",
      "|           card_type|            bank|         card_number|         card_holder|expiry_date|billing_date|credit_limit|issue_year|issue_month|\n",
      "+--------------------+----------------+--------------------+--------------------+-----------+------------+------------+----------+-----------+\n",
      "|    American Express|American Express|fa97545a484641d8a...|1b5f1b515cab9b586...|    08/2027|           1|      104100|      2013|          8|\n",
      "|                Visa|  First National|70af4edc8e5c207e3...|a2cde7687a0e544a8...|    08/2015|          21|       55300|      2013|          8|\n",
      "|         Master Card|           Chase|73ab033eaade21c1c...|e8c999919fa7720d5...|    08/2028|           9|      171900|      2013|          8|\n",
      "|            Discover|        Discover|87deb4b3c75c3b79f...|ac7ca170a090c60a1...|    08/2030|          11|      137200|      2013|          8|\n",
      "| Japan Credit Bureau|             JCB|de3a1dce962d0f74c...|6be7c5c47ba3c8de5...|    08/2015|          25|       76600|      2013|          8|\n",
      "|         Master Card| Bank of America|046596094a672ee43...|98b1df416100036e4...|    08/2027|          12|      131900|      2013|          8|\n",
      "|         Master Card|            USAA|5bcb243b6799f0e9b...|39c12a90e412c4164...|    08/2015|          16|       99000|      2013|          8|\n",
      "| Japan Credit Bureau|             JCB|05ef473ed6e9d8d99...|9c289b88c7305e37b...|    08/2032|           7|       65900|      2013|          8|\n",
      "|                Visa|           Chase|54da20b960ea5f9da...|8fb4a630c5eec84d9...|    08/2027|          19|       93900|      2013|          8|\n",
      "|         Master Card| Bank of America|d09b5b616b94a8caf...|edbf5c9cc5b08233d...|    08/2017|          11|       64600|      2013|          8|\n",
      "| Japan Credit Bureau|             JCB|71315ef82c2c8bd2f...|42f447d777f1222c9...|    08/2016|          24|      107500|      2013|          8|\n",
      "|    American Express|American Express|17e9336cd0fca5293...|81dbb657ede7eb0a7...|    08/2030|           3|      143100|      2013|          8|\n",
      "| Japan Credit Bureau|             JCB|ce5bed4f247fdc64a...|1c3dbf63e2960aac2...|    08/2032|           1|       53400|      2013|          8|\n",
      "|Diners Club Inter...|     Diners Club|409c51ced81e3d855...|7db3c4c8102d69226...|    08/2014|          16|      117200|      2013|          8|\n",
      "|                Visa| Bank of America|9d2645a82a35d0b25...|847203124c5f866ec...|    08/2032|          18|      102600|      2013|          8|\n",
      "+--------------------+----------------+--------------------+--------------------+-----------+------------+------------+----------+-----------+\n",
      "only showing top 15 rows\n",
      "\n"
     ]
    },
    {
     "name": "stderr",
     "output_type": "stream",
     "text": [
      "                                                                                \r"
     ]
    }
   ],
   "source": [
    "df_read.show(15)"
   ]
  },
  {
   "cell_type": "markdown",
   "id": "6c89df7a",
   "metadata": {},
   "source": [
    "NOTE - we have lost the leading 0 for the month.  This is because the type of the partition column has been re-inferred (int not String)"
   ]
  },
  {
   "cell_type": "code",
   "execution_count": 8,
   "id": "28314d4b",
   "metadata": {},
   "outputs": [
    {
     "name": "stdout",
     "output_type": "stream",
     "text": [
      "root\n",
      " |-- card_type: string (nullable = true)\n",
      " |-- bank: string (nullable = true)\n",
      " |-- card_number: string (nullable = true)\n",
      " |-- card_holder: string (nullable = true)\n",
      " |-- expiry_date: string (nullable = true)\n",
      " |-- billing_date: integer (nullable = true)\n",
      " |-- credit_limit: integer (nullable = true)\n",
      " |-- issue_year: integer (nullable = true)\n",
      " |-- issue_month: integer (nullable = true)\n",
      "\n"
     ]
    }
   ],
   "source": [
    "df_read.printSchema()"
   ]
  },
  {
   "cell_type": "markdown",
   "id": "6fae05f7",
   "metadata": {},
   "source": [
    "try again with spark.sql.sources.partitionColumnTypeInference.enabled set to False"
   ]
  },
  {
   "cell_type": "code",
   "execution_count": 9,
   "id": "17e4ac7c",
   "metadata": {},
   "outputs": [],
   "source": [
    "spark.conf.set('spark.sql.sources.partitionColumnTypeInference.enabled', False)"
   ]
  },
  {
   "cell_type": "code",
   "execution_count": 10,
   "id": "4c6675aa",
   "metadata": {},
   "outputs": [],
   "source": [
    "df_read = spark.read.option(\"basePath\", \"/opt/workspace/dataout/credit-cards/\").parquet(\"/opt/workspace/dataout/credit-cards/issue_year=2013\")"
   ]
  },
  {
   "cell_type": "code",
   "execution_count": 11,
   "id": "9576daac",
   "metadata": {},
   "outputs": [
    {
     "name": "stdout",
     "output_type": "stream",
     "text": [
      "root\n",
      " |-- card_type: string (nullable = true)\n",
      " |-- bank: string (nullable = true)\n",
      " |-- card_number: string (nullable = true)\n",
      " |-- card_holder: string (nullable = true)\n",
      " |-- expiry_date: string (nullable = true)\n",
      " |-- billing_date: integer (nullable = true)\n",
      " |-- credit_limit: integer (nullable = true)\n",
      " |-- issue_year: string (nullable = true)\n",
      " |-- issue_month: string (nullable = true)\n",
      "\n"
     ]
    }
   ],
   "source": [
    "df_read.printSchema()"
   ]
  },
  {
   "cell_type": "code",
   "execution_count": 12,
   "id": "d658417c",
   "metadata": {},
   "outputs": [
    {
     "name": "stdout",
     "output_type": "stream",
     "text": [
      "+-------------------+----------------+--------------------+--------------------+-----------+------------+------------+----------+-----------+\n",
      "|          card_type|            bank|         card_number|         card_holder|expiry_date|billing_date|credit_limit|issue_year|issue_month|\n",
      "+-------------------+----------------+--------------------+--------------------+-----------+------------+------------+----------+-----------+\n",
      "|   American Express|American Express|fa97545a484641d8a...|1b5f1b515cab9b586...|    08/2027|           1|      104100|      2013|         08|\n",
      "|               Visa|  First National|70af4edc8e5c207e3...|a2cde7687a0e544a8...|    08/2015|          21|       55300|      2013|         08|\n",
      "|        Master Card|           Chase|73ab033eaade21c1c...|e8c999919fa7720d5...|    08/2028|           9|      171900|      2013|         08|\n",
      "|           Discover|        Discover|87deb4b3c75c3b79f...|ac7ca170a090c60a1...|    08/2030|          11|      137200|      2013|         08|\n",
      "|Japan Credit Bureau|             JCB|de3a1dce962d0f74c...|6be7c5c47ba3c8de5...|    08/2015|          25|       76600|      2013|         08|\n",
      "+-------------------+----------------+--------------------+--------------------+-----------+------------+------------+----------+-----------+\n",
      "only showing top 5 rows\n",
      "\n"
     ]
    }
   ],
   "source": [
    "df_read.show(5)"
   ]
  },
  {
   "cell_type": "markdown",
   "id": "f37700c0",
   "metadata": {},
   "source": [
    "We now have the leading zero on the issue_month string retained."
   ]
  },
  {
   "cell_type": "markdown",
   "id": "d2ba99c9",
   "metadata": {},
   "source": [
    "### Change the partition data and write it back ###"
   ]
  },
  {
   "cell_type": "code",
   "execution_count": 13,
   "id": "a63c0da2",
   "metadata": {},
   "outputs": [],
   "source": [
    "# increase the credit_limit by factor 10\n",
    "df_update = df_read.withColumn(\"credit_limit\", df_read.credit_limit*10)"
   ]
  },
  {
   "cell_type": "code",
   "execution_count": 14,
   "id": "5f4d203c",
   "metadata": {},
   "outputs": [
    {
     "name": "stdout",
     "output_type": "stream",
     "text": [
      "+-------------------+----------------+--------------------+--------------------+-----------+------------+------------+----------+-----------+\n",
      "|          card_type|            bank|         card_number|         card_holder|expiry_date|billing_date|credit_limit|issue_year|issue_month|\n",
      "+-------------------+----------------+--------------------+--------------------+-----------+------------+------------+----------+-----------+\n",
      "|   American Express|American Express|fa97545a484641d8a...|1b5f1b515cab9b586...|    08/2027|           1|     1041000|      2013|         08|\n",
      "|               Visa|  First National|70af4edc8e5c207e3...|a2cde7687a0e544a8...|    08/2015|          21|      553000|      2013|         08|\n",
      "|        Master Card|           Chase|73ab033eaade21c1c...|e8c999919fa7720d5...|    08/2028|           9|     1719000|      2013|         08|\n",
      "|           Discover|        Discover|87deb4b3c75c3b79f...|ac7ca170a090c60a1...|    08/2030|          11|     1372000|      2013|         08|\n",
      "|Japan Credit Bureau|             JCB|de3a1dce962d0f74c...|6be7c5c47ba3c8de5...|    08/2015|          25|      766000|      2013|         08|\n",
      "+-------------------+----------------+--------------------+--------------------+-----------+------------+------------+----------+-----------+\n",
      "only showing top 5 rows\n",
      "\n"
     ]
    }
   ],
   "source": [
    "df_update.show(5)\n"
   ]
  },
  {
   "cell_type": "code",
   "execution_count": 15,
   "id": "5511b9da",
   "metadata": {},
   "outputs": [
    {
     "name": "stderr",
     "output_type": "stream",
     "text": [
      "                                                                                \r"
     ]
    }
   ],
   "source": [
    "df_update.write.format(\"parquet\")\\\n",
    "                .mode(\"overwrite\")\\\n",
    "                .partitionBy('issue_year', 'issue_month')\\\n",
    "                .save(\"/opt/workspace/dataout/credit-cards/\")"
   ]
  },
  {
   "cell_type": "code",
   "execution_count": 16,
   "id": "a097b5fe",
   "metadata": {},
   "outputs": [],
   "source": [
    "spark.stop()"
   ]
  },
  {
   "cell_type": "markdown",
   "id": "9a874f5d",
   "metadata": {},
   "source": [
    "### Check the Updates to the Partition ###"
   ]
  },
  {
   "cell_type": "code",
   "execution_count": 17,
   "id": "bee9f6da",
   "metadata": {},
   "outputs": [],
   "source": [
    "spark = SparkSession.\\\n",
    "        builder.\\\n",
    "        appName(\"hash_anon_readupdate\").\\\n",
    "        master(\"spark://spark-master:7077\").\\\n",
    "        config(\"spark.executor.memory\", \"512m\").\\\n",
    "        config(\"spark.eventLog.enabled\", \"true\").\\\n",
    "        config(\"spark.eventLog.dir\", \"file:///opt/workspace/events\").\\\n",
    "        getOrCreate()    "
   ]
  },
  {
   "cell_type": "code",
   "execution_count": 18,
   "id": "e86573bc",
   "metadata": {},
   "outputs": [
    {
     "name": "stderr",
     "output_type": "stream",
     "text": [
      "                                                                                \r"
     ]
    },
    {
     "name": "stdout",
     "output_type": "stream",
     "text": [
      "+-------------------+----------------+--------------------+--------------------+-----------+------------+------------+----------+-----------+\n",
      "|          card_type|            bank|         card_number|         card_holder|expiry_date|billing_date|credit_limit|issue_year|issue_month|\n",
      "+-------------------+----------------+--------------------+--------------------+-----------+------------+------------+----------+-----------+\n",
      "|   American Express|American Express|fa97545a484641d8a...|1b5f1b515cab9b586...|    08/2027|           1|     1041000|      2013|          8|\n",
      "|               Visa|  First National|70af4edc8e5c207e3...|a2cde7687a0e544a8...|    08/2015|          21|      553000|      2013|          8|\n",
      "|        Master Card|           Chase|73ab033eaade21c1c...|e8c999919fa7720d5...|    08/2028|           9|     1719000|      2013|          8|\n",
      "|           Discover|        Discover|87deb4b3c75c3b79f...|ac7ca170a090c60a1...|    08/2030|          11|     1372000|      2013|          8|\n",
      "|Japan Credit Bureau|             JCB|de3a1dce962d0f74c...|6be7c5c47ba3c8de5...|    08/2015|          25|      766000|      2013|          8|\n",
      "+-------------------+----------------+--------------------+--------------------+-----------+------------+------------+----------+-----------+\n",
      "only showing top 5 rows\n",
      "\n"
     ]
    },
    {
     "name": "stderr",
     "output_type": "stream",
     "text": [
      "                                                                                \r"
     ]
    }
   ],
   "source": [
    "df_read = spark.read.option(\"basePath\", \"/opt/workspace/dataout/credit-cards/\").parquet(\"/opt/workspace/dataout/credit-cards/issue_year=2013\")\n",
    "df_read.show(5)\n"
   ]
  },
  {
   "cell_type": "code",
   "execution_count": 19,
   "id": "30f84ce2",
   "metadata": {},
   "outputs": [],
   "source": [
    "spark.stop()"
   ]
  },
  {
   "cell_type": "code",
   "execution_count": null,
   "id": "b6cf1822",
   "metadata": {},
   "outputs": [],
   "source": []
  },
  {
   "cell_type": "code",
   "execution_count": null,
   "id": "78500d1e",
   "metadata": {},
   "outputs": [],
   "source": []
  }
 ],
 "metadata": {
  "kernelspec": {
   "display_name": "Python 3 (ipykernel)",
   "language": "python",
   "name": "python3"
  },
  "language_info": {
   "codemirror_mode": {
    "name": "ipython",
    "version": 3
   },
   "file_extension": ".py",
   "mimetype": "text/x-python",
   "name": "python",
   "nbconvert_exporter": "python",
   "pygments_lexer": "ipython3",
   "version": "3.10.9"
  }
 },
 "nbformat": 4,
 "nbformat_minor": 5
}
