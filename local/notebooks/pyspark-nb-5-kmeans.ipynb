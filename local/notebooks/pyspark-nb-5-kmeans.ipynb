{
 "cells": [
  {
   "cell_type": "markdown",
   "id": "a370b8c4",
   "metadata": {},
   "source": [
    "# 5. K-Means Clustering with the Retail Data-Set #\n",
    "Demonstration of using the [Spark MLlib](https://spark.apache.org/docs/latest/ml-guide.html) machine learning library to apply the K-Means algorithm to the Retail data-set.  The retail data-set can be downloaded using notebook 1 \"*pyspark-nb-1.ipynb*\"  \n",
    "\n",
    "\"*The MLlib RDD-based API is now in maintenance mode.\n",
    "As of Spark 2.0, the RDD-based APIs in the spark.mllib package have entered maintenance mode. The primary Machine Learning API for Spark is now the DataFrame-based API in the spark.ml package.*\"\n",
    "\n",
    "Steps covered in this notebook:  \n",
    "- Split the data into a test and training dataset using the Spark DF `randomSplit` function  \n",
    "- Use MLlib `StringIndexer` and `OneHotEncoder` to encode the Day-of-Week as numeric data  \n",
    "- Combine feature columns into a single Vector stored in one column using the MLlib `VectorAssembler`  \n",
    "- Use MLlib `Pipeline` to link multiple stages into a single pipeline of data processing transformation  \n",
    "- Use MLlib `KMeans` to build a clustering model that classifies data into clusters.  \n",
    "\n",
    "Cluster Model Training and Evaluation  \n",
    "- Evaluate best number of clusters to choose using the `evaluation.ClusteringEvaluator` library  \n",
    "- Consider the distance from centers (optimize at minimum for least error)  and the [cluster Silhouette](https://en.wikipedia.org/wiki/Silhouette_(clustering)) value (optimize at +1)\n",
    "\n",
    "Cluster Model Testing\n",
    "- try classifying test data with the KMeans model and examine the cluster classification results  \n",
    "\n",
    "\n"
   ]
  },
  {
   "cell_type": "code",
   "execution_count": 1,
   "id": "a700fc07",
   "metadata": {},
   "outputs": [
    {
     "name": "stderr",
     "output_type": "stream",
     "text": [
      "Using Spark's default log4j profile: org/apache/spark/log4j-defaults.properties\n",
      "Setting default log level to \"WARN\".\n",
      "To adjust logging level use sc.setLogLevel(newLevel). For SparkR, use setLogLevel(newLevel).\n",
      "24/02/12 16:09:52 WARN NativeCodeLoader: Unable to load native-hadoop library for your platform... using builtin-java classes where applicable\n"
     ]
    }
   ],
   "source": [
    "# Connect to Spark Server\n",
    "from pyspark.sql import SparkSession\n",
    "spark = SparkSession.\\\n",
    "        builder.\\\n",
    "        appName(\"pyspark-nb-5-kmeans\").\\\n",
    "        master(\"spark://spark-master:7077\").\\\n",
    "        config(\"spark.executor.memory\", \"512m\").\\\n",
    "        config(\"spark.eventLog.enabled\", \"true\").\\\n",
    "        config(\"spark.eventLog.dir\", \"file:///opt/workspace/events\").\\\n",
    "        getOrCreate() "
   ]
  },
  {
   "cell_type": "code",
   "execution_count": 2,
   "id": "3bdaef77",
   "metadata": {},
   "outputs": [],
   "source": [
    "# Only log errors at ERROR, skip INFO  and WARN\n",
    "spark.sparkContext.setLogLevel(\"ERROR\")"
   ]
  },
  {
   "cell_type": "markdown",
   "id": "82a558ba",
   "metadata": {},
   "source": [
    "#### Load Data ####"
   ]
  },
  {
   "cell_type": "code",
   "execution_count": 3,
   "id": "39bb8e21",
   "metadata": {},
   "outputs": [],
   "source": [
    "# import date_format fuction and col (\"return a column\") function\n",
    "from pyspark.sql.functions import date_format, col"
   ]
  },
  {
   "cell_type": "code",
   "execution_count": 4,
   "id": "6f12a68c",
   "metadata": {},
   "outputs": [
    {
     "name": "stderr",
     "output_type": "stream",
     "text": [
      "                                                                                \r"
     ]
    }
   ],
   "source": [
    "# Load data\n",
    "retailDataFrame = spark.read.option(\"inferSchema\", True).option(\"header\", True).csv(\"/opt/workspace/datain/retail-data/by-day/*.csv\")"
   ]
  },
  {
   "cell_type": "code",
   "execution_count": 5,
   "id": "280e1942",
   "metadata": {},
   "outputs": [],
   "source": [
    "# Fill Na's and create a day_of_week column.   coalesce(2) function coalesce's data down to 2 node partitions\n",
    "preppedDataFrame = retailDataFrame.na.fill(0).withColumn(\"day_of_week\", date_format(col(\"InvoiceDate\"), \"EEEE\")).coalesce(2)"
   ]
  },
  {
   "cell_type": "markdown",
   "id": "2d52875b",
   "metadata": {},
   "source": [
    "#### Explore the Data ####\n",
    "Very brief look at the data-set."
   ]
  },
  {
   "cell_type": "code",
   "execution_count": 6,
   "id": "f0fa297b",
   "metadata": {},
   "outputs": [
    {
     "name": "stdout",
     "output_type": "stream",
     "text": [
      "+---------+---------+--------------------+--------+-------------------+---------+----------+--------------+-----------+\n",
      "|InvoiceNo|StockCode|         Description|Quantity|        InvoiceDate|UnitPrice|CustomerID|       Country|day_of_week|\n",
      "+---------+---------+--------------------+--------+-------------------+---------+----------+--------------+-----------+\n",
      "|   537226|    22811|SET OF 6 T-LIGHTS...|       6|2010-12-06 08:34:00|     2.95|   15987.0|United Kingdom|     Monday|\n",
      "|   537226|    21713|CITRONELLA CANDLE...|       8|2010-12-06 08:34:00|      2.1|   15987.0|United Kingdom|     Monday|\n",
      "|   537226|    22927|GREEN GIANT GARDE...|       2|2010-12-06 08:34:00|     5.95|   15987.0|United Kingdom|     Monday|\n",
      "|   537226|    20802|SMALL GLASS SUNDA...|       6|2010-12-06 08:34:00|     1.65|   15987.0|United Kingdom|     Monday|\n",
      "|   537226|    22052|VINTAGE CARAVAN G...|      25|2010-12-06 08:34:00|     0.42|   15987.0|United Kingdom|     Monday|\n",
      "|   537226|    22705|   WRAP GREEN PEARS |      25|2010-12-06 08:34:00|     0.42|   15987.0|United Kingdom|     Monday|\n",
      "|   537226|    20781|GOLD EAR MUFF HEA...|       2|2010-12-06 08:34:00|     5.49|   15987.0|United Kingdom|     Monday|\n",
      "|   537226|    22310|IVORY KNITTED MUG...|       6|2010-12-06 08:34:00|     1.65|   15987.0|United Kingdom|     Monday|\n",
      "|   537226|    22389|PAPERWEIGHT SAVE ...|       6|2010-12-06 08:34:00|     2.55|   15987.0|United Kingdom|     Monday|\n",
      "|   537227|    22941|CHRISTMAS LIGHTS ...|       2|2010-12-06 08:42:00|      8.5|   17677.0|United Kingdom|     Monday|\n",
      "|   537227|    22696| WICKER WREATH LARGE|       6|2010-12-06 08:42:00|     1.95|   17677.0|United Kingdom|     Monday|\n",
      "|   537227|    22193|RED DINER WALL CLOCK|       2|2010-12-06 08:42:00|      8.5|   17677.0|United Kingdom|     Monday|\n",
      "|   537227|    21212|PACK OF 72 RETROS...|     120|2010-12-06 08:42:00|     0.42|   17677.0|United Kingdom|     Monday|\n",
      "|   537227|    21977|PACK OF 60 PINK P...|      48|2010-12-06 08:42:00|     0.55|   17677.0|United Kingdom|     Monday|\n",
      "|   537227|    84991|60 TEATIME FAIRY ...|      48|2010-12-06 08:42:00|     0.55|   17677.0|United Kingdom|     Monday|\n",
      "+---------+---------+--------------------+--------+-------------------+---------+----------+--------------+-----------+\n",
      "only showing top 15 rows\n",
      "\n"
     ]
    }
   ],
   "source": [
    "preppedDataFrame.show(15)"
   ]
  },
  {
   "cell_type": "code",
   "execution_count": 7,
   "id": "83ce5496",
   "metadata": {},
   "outputs": [
    {
     "name": "stderr",
     "output_type": "stream",
     "text": [
      "[Stage 5:=============================>                             (1 + 1) / 2]\r"
     ]
    },
    {
     "name": "stdout",
     "output_type": "stream",
     "text": [
      "+-------+-----------------+------------------+--------------------+------------------+-------------------+------------------+------------------+-----------+-----------+\n",
      "|summary|        InvoiceNo|         StockCode|         Description|          Quantity|        InvoiceDate|         UnitPrice|        CustomerID|    Country|day_of_week|\n",
      "+-------+-----------------+------------------+--------------------+------------------+-------------------+------------------+------------------+-----------+-----------+\n",
      "|  count|           259655|            259655|              258700|            259655|             259655|            259655|            259655|     259655|     259655|\n",
      "|   mean|  547746.43231847|28623.801454078446|                null|  9.27817296027421|               null| 5.016782657756561|10918.417527103271|       null|       null|\n",
      "| stddev|6846.269489219602|18376.695345438256|                null|214.68658414268074|               null|115.43270196871605|  7061.68529885301|       null|       null|\n",
      "|    min|           536365|             10002| 4 PURPLE FLOCK D...|            -74215|2010-12-01 08:26:00|               0.0|               0.0|  Australia|     Friday|\n",
      "|    max|          C559683|                 m|   wrongly sold sets|             74215|2011-07-11 17:07:00|           38970.0|           18287.0|Unspecified|  Wednesday|\n",
      "+-------+-----------------+------------------+--------------------+------------------+-------------------+------------------+------------------+-----------+-----------+\n",
      "\n"
     ]
    },
    {
     "name": "stderr",
     "output_type": "stream",
     "text": [
      "                                                                                \r"
     ]
    }
   ],
   "source": [
    "#Summary stats\n",
    "preppedDataFrame.describe().show()"
   ]
  },
  {
   "cell_type": "code",
   "execution_count": 8,
   "id": "436cdd11",
   "metadata": {},
   "outputs": [
    {
     "name": "stderr",
     "output_type": "stream",
     "text": [
      "[Stage 8:=============================>                             (1 + 1) / 2]\r"
     ]
    },
    {
     "name": "stdout",
     "output_type": "stream",
     "text": [
      "+--------------------+------+\n",
      "|Country             |count |\n",
      "+--------------------+------+\n",
      "|United Kingdom      |238528|\n",
      "|Germany             |4466  |\n",
      "|France              |3894  |\n",
      "|EIRE                |3309  |\n",
      "|Spain               |1269  |\n",
      "|Netherlands         |1245  |\n",
      "|Belgium             |997   |\n",
      "|Switzerland         |782   |\n",
      "|Australia           |672   |\n",
      "|Portugal            |624   |\n",
      "|Norway              |378   |\n",
      "|Channel Islands     |368   |\n",
      "|Cyprus              |353   |\n",
      "|Finland             |332   |\n",
      "|Italy               |312   |\n",
      "|Japan               |251   |\n",
      "|Sweden              |220   |\n",
      "|Hong Kong           |200   |\n",
      "|Poland              |187   |\n",
      "|Denmark             |184   |\n",
      "|Unspecified         |155   |\n",
      "|Canada              |145   |\n",
      "|Austria             |127   |\n",
      "|Singapore           |118   |\n",
      "|Greece              |110   |\n",
      "|Iceland             |102   |\n",
      "|Malta               |47    |\n",
      "|Lebanon             |45    |\n",
      "|Israel              |38    |\n",
      "|Lithuania           |35    |\n",
      "|European Community  |32    |\n",
      "|Brazil              |32    |\n",
      "|United Arab Emirates|30    |\n",
      "|USA                 |22    |\n",
      "|Bahrain             |19    |\n",
      "|Czech Republic      |17    |\n",
      "|Saudi Arabia        |10    |\n",
      "+--------------------+------+\n",
      "\n"
     ]
    },
    {
     "name": "stderr",
     "output_type": "stream",
     "text": [
      "                                                                                \r"
     ]
    }
   ],
   "source": [
    "# Distribution of records by country\n",
    "from pyspark.sql.functions import desc\n",
    "preppedDataFrame.groupby('Country').count().sort(desc(\"count\")).show(100,False)"
   ]
  },
  {
   "cell_type": "markdown",
   "id": "6378e669",
   "metadata": {},
   "source": [
    "-> The data is heavily skewed to the UK."
   ]
  },
  {
   "cell_type": "code",
   "execution_count": 9,
   "id": "158936e9",
   "metadata": {},
   "outputs": [
    {
     "data": {
      "text/plain": [
       "3671"
      ]
     },
     "execution_count": 9,
     "metadata": {},
     "output_type": "execute_result"
    }
   ],
   "source": [
    "# Distinct number of product codes \n",
    "preppedDataFrame.select('StockCode').distinct().count()"
   ]
  },
  {
   "cell_type": "markdown",
   "id": "a068165f",
   "metadata": {},
   "source": [
    "-> There are 4070 distinct products"
   ]
  },
  {
   "cell_type": "markdown",
   "id": "f86b68c7",
   "metadata": {},
   "source": [
    "#### Split Data into Test and Training Sets ####\n",
    "Splitting data into test and training sets is not always necessarily required for unsupervised cluster analysis.  However, we want to analyse the cluster separation (\"silhouette\") and error we get with a new data set based on a training set to determine best number of clusters to choose."
   ]
  },
  {
   "cell_type": "code",
   "execution_count": 10,
   "id": "8023cd35",
   "metadata": {},
   "outputs": [
    {
     "name": "stderr",
     "output_type": "stream",
     "text": [
      "[Stage 20:=============================>                            (1 + 1) / 2]\r"
     ]
    },
    {
     "name": "stdout",
     "output_type": "stream",
     "text": [
      "Training Data Rows: 207761, Test Data Rows: 51894\n"
     ]
    },
    {
     "name": "stderr",
     "output_type": "stream",
     "text": [
      "                                                                                \r"
     ]
    }
   ],
   "source": [
    "# split the data 80 /20\n",
    "trainDataFrame, testDataFrame = preppedDataFrame.randomSplit([0.8, 0.2], seed = 42)\n",
    "print(\"Training Data Rows: {}, Test Data Rows: {}\".format(str(trainDataFrame.count()), str(testDataFrame.count())) )"
   ]
  },
  {
   "cell_type": "markdown",
   "id": "2654e3ce",
   "metadata": {},
   "source": [
    "#### Use `StringIndexer` and `OneHotEncoder` to Encode Day-of-Week and create a Feature `VectorAssembler` ####\n",
    "Ref: https://spark.apache.org/docs/latest/ml-features"
   ]
  },
  {
   "cell_type": "code",
   "execution_count": 11,
   "id": "aa84ecbc",
   "metadata": {},
   "outputs": [],
   "source": [
    "from pyspark.ml.feature import StringIndexer # takes range of string labels and maps to integer values\n",
    "from pyspark.ml.feature import OneHotEncoder # One-hot-encoding for categorical features; encode as binary encoded vector-col"
   ]
  },
  {
   "cell_type": "code",
   "execution_count": 12,
   "id": "800f79d1",
   "metadata": {},
   "outputs": [],
   "source": [
    "indexer = StringIndexer().setInputCol(\"day_of_week\").setOutputCol(\"day_of_week_index\")\n",
    "encoder = OneHotEncoder().setInputCol(\"day_of_week_index\").setOutputCol(\"day_of_week_encoded\")"
   ]
  },
  {
   "cell_type": "markdown",
   "id": "f429ed5b",
   "metadata": {},
   "source": [
    "Assemble multi-value vector of features including one-hot representation for day-of-week into a vector stored in a single column.  \n",
    "For this example only three features are chosen for the model:  \n",
    "+ UnitPrice\n",
    "+ Quantity  \n",
    "+ Day_of_Week"
   ]
  },
  {
   "cell_type": "code",
   "execution_count": 13,
   "id": "17f727e8",
   "metadata": {},
   "outputs": [],
   "source": [
    "from pyspark.ml.feature import VectorAssembler\n",
    "vectorAssembler = VectorAssembler().setInputCols([\"UnitPrice\", \"Quantity\", \"day_of_week_encoded\"]).setOutputCol(\"features\")"
   ]
  },
  {
   "cell_type": "markdown",
   "id": "28618a13",
   "metadata": {},
   "source": [
    "#### Create a Model Training Pipeline ####\n",
    "  \n",
    "Train a K-Means cluster model with *Day-of-Week* and *Unit Price* and *Quantity* in the feature-set\n",
    "\n",
    "First, fit the transformers to the data-set.  The `StringIndexer` needs to know how many unique values there are to index.  "
   ]
  },
  {
   "cell_type": "code",
   "execution_count": 14,
   "id": "4f39d81b",
   "metadata": {},
   "outputs": [
    {
     "name": "stderr",
     "output_type": "stream",
     "text": [
      "                                                                                \r"
     ]
    }
   ],
   "source": [
    "from pyspark.ml import Pipeline\n",
    "transformationPipeline = Pipeline().setStages([indexer, encoder, vectorAssembler])\n",
    "fittedPipeline = transformationPipeline.fit(trainDataFrame)\n",
    "transformedTraining = fittedPipeline.transform(trainDataFrame)\n",
    "transformedTest = fittedPipeline.transform(testDataFrame)"
   ]
  },
  {
   "cell_type": "markdown",
   "id": "56e43a66",
   "metadata": {},
   "source": [
    "It would be possible to also include the model training in the pipeline above.  Instead we next *cache* the pipeline and then experiment with different hyperparameters training a model against the same pipeline."
   ]
  },
  {
   "cell_type": "code",
   "execution_count": 15,
   "id": "70c7898a",
   "metadata": {},
   "outputs": [
    {
     "data": {
      "text/plain": [
       "DataFrame[InvoiceNo: string, StockCode: string, Description: string, Quantity: int, InvoiceDate: string, UnitPrice: double, CustomerID: double, Country: string, day_of_week: string, day_of_week_index: double, day_of_week_encoded: vector, features: vector]"
      ]
     },
     "execution_count": 15,
     "metadata": {},
     "output_type": "execute_result"
    }
   ],
   "source": [
    "transformedTraining.cache()"
   ]
  },
  {
   "cell_type": "markdown",
   "id": "cae9a757",
   "metadata": {},
   "source": [
    "### Import KMeans from `pyspark.ml.clustering` and Fit a Model ##\n",
    "https://spark.apache.org/docs/latest/api/python/reference/api/pyspark.ml.clustering.KMeans.html#pyspark.ml.clustering.KMeans.k"
   ]
  },
  {
   "cell_type": "code",
   "execution_count": 16,
   "id": "a769d69f",
   "metadata": {},
   "outputs": [],
   "source": [
    "# Import the Spark ML Kmeans model\n",
    "from pyspark.ml.clustering import KMeans\n",
    "\n",
    "# Evaluate clustering by computing Silhouette score\n",
    "from pyspark.ml.evaluation import ClusteringEvaluator\n",
    "evaluator = ClusteringEvaluator()\n",
    "\n",
    "# set K - the number of clusters to create\n",
    "#kmeans = KMeans().setK(8).setSeed(42)\n",
    "#kmModel = kmeans.fit(transformedTraining)"
   ]
  },
  {
   "cell_type": "markdown",
   "id": "1e499cf1",
   "metadata": {},
   "source": [
    "#### Look for Optimal Number of Clusters ####\n",
    "Consider **Cluster Separation** and **Standard Error** cost to evaluate different numbers of clusters to choose.  \n",
    "  \n",
    "The Standard Error measure of distance from the cluster center can be used to try to make sure there enough clusters and the Silhouette score can be used to measure how effectively individual data-points are clearly separated into a specific cluster (not too many clusters).  \n",
    "  \n",
    "This can take several minutes to run. *Skip this step and just choose K=8 clusters to avoid the analysis phase* by skipping ahead to the \"*Identify Clusters in the Test Data-Set*\" section below."
   ]
  },
  {
   "cell_type": "code",
   "execution_count": 22,
   "id": "7f97019a",
   "metadata": {},
   "outputs": [
    {
     "name": "stdout",
     "output_type": "stream",
     "text": [
      "Get std-err for clusters K=2\n"
     ]
    },
    {
     "ename": "TypeError",
     "evalue": "'float' object is not callable",
     "output_type": "error",
     "traceback": [
      "\u001b[0;31m---------------------------------------------------------------------------\u001b[0m",
      "\u001b[0;31mTypeError\u001b[0m                                 Traceback (most recent call last)",
      "Cell \u001b[0;32mIn[22], line 7\u001b[0m\n\u001b[1;32m      5\u001b[0m     \u001b[38;5;28mprint\u001b[39m(\u001b[38;5;124m\"\u001b[39m\u001b[38;5;124mGet std-err for clusters K=\u001b[39m\u001b[38;5;132;01m{}\u001b[39;00m\u001b[38;5;124m\"\u001b[39m\u001b[38;5;241m.\u001b[39mformat(K))\n\u001b[1;32m      6\u001b[0m     kmModel \u001b[38;5;241m=\u001b[39m KMeans()\u001b[38;5;241m.\u001b[39msetK(K)\u001b[38;5;241m.\u001b[39msetSeed(\u001b[38;5;241m42\u001b[39m)\u001b[38;5;241m.\u001b[39mfit(transformedTraining)    \n\u001b[0;32m----> 7\u001b[0m     costs\u001b[38;5;241m.\u001b[39mappend(\u001b[43mkmModel\u001b[49m\u001b[38;5;241;43m.\u001b[39;49m\u001b[43msummary\u001b[49m\u001b[38;5;241;43m.\u001b[39;49m\u001b[43mtrainingCost\u001b[49m\u001b[43m(\u001b[49m\u001b[43mtransformedTraining\u001b[49m\u001b[43m)\u001b[49m)    \n\u001b[1;32m      9\u001b[0m \u001b[38;5;66;03m# Plot the results\u001b[39;00m\n\u001b[1;32m     10\u001b[0m \u001b[38;5;28;01mimport\u001b[39;00m \u001b[38;5;21;01mmatplotlib\u001b[39;00m\u001b[38;5;21;01m.\u001b[39;00m\u001b[38;5;21;01mpyplot\u001b[39;00m \u001b[38;5;28;01mas\u001b[39;00m \u001b[38;5;21;01mplt\u001b[39;00m\n",
      "\u001b[0;31mTypeError\u001b[0m: 'float' object is not callable"
     ]
    }
   ],
   "source": [
    "# Look for optimal K number of clusters from 2 to 15\n",
    "costs = []\n",
    "# range 2 to 15 _inclusive_\n",
    "for K in range(2,16):\n",
    "    print(\"Get std-err for clusters K={}\".format(K))\n",
    "    kmModel = KMeans().setK(K).setSeed(42).fit(transformedTraining)    \n",
    "    costs.append(kmModel.trainingCost(transformedTraining))    \n",
    "\n",
    "# Plot the results\n",
    "import matplotlib.pyplot as plt\n",
    "plt.plot(range(2,16), costs)\n",
    "plt.xlabel(\"number of clusters (\\\"K\\\")\")\n",
    "plt.ylabel(\"Std Error\")\n",
    "plt.title(\"Optimise Distance from Cluster-Centers to a Minimum\")\n",
    "plt.grid(True)"
   ]
  },
  {
   "cell_type": "markdown",
   "id": "a03ddf71",
   "metadata": {},
   "source": [
    "To avoid an issue with calculating the Silhoutte score for small numbers of cluster - \"*assertion failed: Number of clusters must be greater than one*\", start the range of clusters to test at 4."
   ]
  },
  {
   "cell_type": "code",
   "execution_count": 18,
   "id": "c3b91f07",
   "metadata": {},
   "outputs": [
    {
     "name": "stdout",
     "output_type": "stream",
     "text": [
      "Get silhouette cluster-fit for clusters K=4\n"
     ]
    },
    {
     "name": "stderr",
     "output_type": "stream",
     "text": [
      "                                                                                \r"
     ]
    },
    {
     "name": "stdout",
     "output_type": "stream",
     "text": [
      "Get silhouette cluster-fit for clusters K=5\n"
     ]
    },
    {
     "name": "stderr",
     "output_type": "stream",
     "text": [
      "                                                                                \r"
     ]
    },
    {
     "name": "stdout",
     "output_type": "stream",
     "text": [
      "Get silhouette cluster-fit for clusters K=6\n"
     ]
    },
    {
     "name": "stderr",
     "output_type": "stream",
     "text": [
      "                                                                                \r"
     ]
    },
    {
     "name": "stdout",
     "output_type": "stream",
     "text": [
      "Get silhouette cluster-fit for clusters K=7\n"
     ]
    },
    {
     "name": "stderr",
     "output_type": "stream",
     "text": [
      "                                                                                \r"
     ]
    },
    {
     "name": "stdout",
     "output_type": "stream",
     "text": [
      "Get silhouette cluster-fit for clusters K=8\n"
     ]
    },
    {
     "name": "stderr",
     "output_type": "stream",
     "text": [
      "                                                                                \r"
     ]
    },
    {
     "name": "stdout",
     "output_type": "stream",
     "text": [
      "Get silhouette cluster-fit for clusters K=9\n"
     ]
    },
    {
     "name": "stderr",
     "output_type": "stream",
     "text": [
      "                                                                                \r"
     ]
    },
    {
     "name": "stdout",
     "output_type": "stream",
     "text": [
      "Get silhouette cluster-fit for clusters K=10\n"
     ]
    },
    {
     "name": "stderr",
     "output_type": "stream",
     "text": [
      "                                                                                \r"
     ]
    },
    {
     "name": "stdout",
     "output_type": "stream",
     "text": [
      "Get silhouette cluster-fit for clusters K=11\n"
     ]
    },
    {
     "name": "stderr",
     "output_type": "stream",
     "text": [
      "                                                                                \r"
     ]
    },
    {
     "name": "stdout",
     "output_type": "stream",
     "text": [
      "Get silhouette cluster-fit for clusters K=12\n"
     ]
    },
    {
     "name": "stderr",
     "output_type": "stream",
     "text": [
      "                                                                                \r"
     ]
    },
    {
     "name": "stdout",
     "output_type": "stream",
     "text": [
      "Get silhouette cluster-fit for clusters K=13\n"
     ]
    },
    {
     "name": "stderr",
     "output_type": "stream",
     "text": [
      "                                                                                \r"
     ]
    },
    {
     "name": "stdout",
     "output_type": "stream",
     "text": [
      "Get silhouette cluster-fit for clusters K=14\n"
     ]
    },
    {
     "name": "stderr",
     "output_type": "stream",
     "text": [
      "                                                                                \r"
     ]
    },
    {
     "name": "stdout",
     "output_type": "stream",
     "text": [
      "Get silhouette cluster-fit for clusters K=15\n"
     ]
    },
    {
     "name": "stderr",
     "output_type": "stream",
     "text": [
      "                                                                                \r"
     ]
    },
    {
     "data": {
      "image/png": "[encoded data removed]",
      "text/plain": [
       "<Figure size 640x480 with 1 Axes>"
      ]
     },
     "metadata": {},
     "output_type": "display_data"
    }
   ],
   "source": [
    "# Look for optimal K number of clusters from \n",
    "silhouettes = [1,1] # pad the array as can't run this for 2,3 clusters due to \"Number of clusters must be greater than one\" error\n",
    "for K in range(4,16):\n",
    "    print(\"Get silhouette cluster-fit for clusters K={}\".format(K))\n",
    "    kmModel = KMeans().setK(K).setSeed(42).fit(transformedTraining)    \n",
    "    # predict clusters with test data-set and determine level of separatation between clusters (1 is optimal)\n",
    "    predictions = kmModel.transform(transformedTest)\n",
    "    silhouette = evaluator.evaluate(predictions)\n",
    "    #print(\"Silhouette with squared euclidean distance = \" + str(silhouette))\n",
    "    silhouettes.append(silhouette)   \n",
    "    \n",
    "# Plot the results\n",
    "import matplotlib.pyplot as plt\n",
    "plt.plot(range(2,16), silhouettes)\n",
    "plt.xlabel(\"number of clusters (\\\"K\\\")\")\n",
    "plt.ylabel(\"Silhouette Score\")\n",
    "plt.title(\"Optimise Silhouette Clustering Score to 1\")\n",
    "plt.grid(True)"
   ]
  },
  {
   "cell_type": "markdown",
   "id": "b1478586",
   "metadata": {},
   "source": [
    "Based on the above outcomes for Std-Err and Silhouette score, a value of between 8 and 11 clusters would be appropriate.  For the rest of this notebook, choose **8 clusters** for maximum cluster separation and lower std error (overall distance from cluster center)."
   ]
  },
  {
   "cell_type": "markdown",
   "id": "47f1cf91",
   "metadata": {},
   "source": [
    "#### Identify Clusters in the Test data-set ####\n",
    "Working with the test data-set, generate preditions from the model"
   ]
  },
  {
   "cell_type": "code",
   "execution_count": 19,
   "id": "f3f58d29",
   "metadata": {},
   "outputs": [],
   "source": [
    "kmModel = KMeans().setK(8).setSeed(42).fit(transformedTraining)    \n",
    "predictions = kmModel.transform(transformedTest)"
   ]
  },
  {
   "cell_type": "code",
   "execution_count": 20,
   "id": "d686fc7e",
   "metadata": {},
   "outputs": [
    {
     "name": "stderr",
     "output_type": "stream",
     "text": [
      "[Stage 798:============================>                            (1 + 1) / 2]"
     ]
    },
    {
     "name": "stdout",
     "output_type": "stream",
     "text": [
      "Silhouette with squared euclidean distance = 0.9997311944922104\n"
     ]
    },
    {
     "name": "stderr",
     "output_type": "stream",
     "text": [
      "                                                                                \r"
     ]
    }
   ],
   "source": [
    "# Evaluate clustering by computing Silhouette score\n",
    "evaluator = ClusteringEvaluator()\n",
    "silhouette = evaluator.evaluate(predictions)\n",
    "print(\"Silhouette with squared euclidean distance = \" + str(silhouette))"
   ]
  },
  {
   "cell_type": "markdown",
   "id": "04792e8e",
   "metadata": {},
   "source": [
    "## Analysis of Test Data using the Cluster Model ##\n",
    "\n",
    "Analysis of the test data, making comparisons of data that is classified in different clusters by the trained model.\n",
    "  \n",
    "The predicted cluster-ID is provided in the `prediction` column.\n"
   ]
  },
  {
   "cell_type": "code",
   "execution_count": 21,
   "id": "7389cd52",
   "metadata": {},
   "outputs": [
    {
     "name": "stderr",
     "output_type": "stream",
     "text": [
      "[Stage 800:>                                                        (0 + 1) / 1]"
     ]
    },
    {
     "name": "stdout",
     "output_type": "stream",
     "text": [
      "+--------------------+--------------+-----------+---------+--------+----------+\n",
      "|         Description|       Country|day_of_week|UnitPrice|Quantity|prediction|\n",
      "+--------------------+--------------+-----------+---------+--------+----------+\n",
      "|SET 7 BABUSHKA NE...|United Kingdom|  Wednesday|     7.65|       2|         0|\n",
      "| WHITE METAL LANTERN|United Kingdom|  Wednesday|     3.39|       6|         0|\n",
      "|RED WOOLLY HOTTIE...|United Kingdom|  Wednesday|     3.39|       6|         0|\n",
      "|BOX OF VINTAGE AL...|United Kingdom|  Wednesday|     9.95|       2|         0|\n",
      "|POPPY'S PLAYHOUSE...|United Kingdom|  Wednesday|      2.1|       6|         0|\n",
      "|MINI JIGSAW CIRCU...|        France|  Wednesday|     0.42|      24|         0|\n",
      "|VINTAGE BILLBOARD...|United Kingdom|  Wednesday|     1.06|       6|         0|\n",
      "|VINTAGE BILLBOARD...|United Kingdom|  Wednesday|     1.06|       6|         0|\n",
      "| SAVE THE PLANET MUG|United Kingdom|  Wednesday|     1.06|       6|         0|\n",
      "|WOOD S/3 CABINET ...|United Kingdom|  Wednesday|     6.95|       4|         0|\n",
      "+--------------------+--------------+-----------+---------+--------+----------+\n",
      "only showing top 10 rows\n",
      "\n"
     ]
    },
    {
     "name": "stderr",
     "output_type": "stream",
     "text": [
      "                                                                                \r"
     ]
    }
   ],
   "source": [
    "predictions.select(\"Description\", \"Country\", \"day_of_week\", \"UnitPrice\", \"Quantity\", \"prediction\").show(10)"
   ]
  },
  {
   "cell_type": "markdown",
   "id": "36638634",
   "metadata": {},
   "source": [
    "Other class-labels not used in the feature-set\n",
    "1. StockCode (same as Description?)  \n",
    "2. CustomerID  \n",
    "3. Country  \n"
   ]
  },
  {
   "cell_type": "markdown",
   "id": "2095463b",
   "metadata": {},
   "source": [
    "#### Check: How many distinct clusters do the Countries belong to? ####"
   ]
  },
  {
   "cell_type": "code",
   "execution_count": 22,
   "id": "db01e9f8",
   "metadata": {},
   "outputs": [
    {
     "name": "stderr",
     "output_type": "stream",
     "text": [
      "[Stage 802:============================================>        (169 + 3) / 200]"
     ]
    },
    {
     "name": "stdout",
     "output_type": "stream",
     "text": [
      "+----------+--------------------+----------+\n",
      "|prediction|Country             |n_clusters|\n",
      "+----------+--------------------+----------+\n",
      "|0         |Australia           |1         |\n",
      "|0         |Austria             |1         |\n",
      "|0         |Bahrain             |1         |\n",
      "|0         |Belgium             |1         |\n",
      "|0         |Brazil              |1         |\n",
      "|0         |Canada              |1         |\n",
      "|0         |Channel Islands     |1         |\n",
      "|0         |Cyprus              |1         |\n",
      "|0         |Czech Republic      |1         |\n",
      "|0         |Denmark             |1         |\n",
      "|0         |EIRE                |1         |\n",
      "|0         |European Community  |1         |\n",
      "|0         |Finland             |1         |\n",
      "|0         |France              |1         |\n",
      "|0         |Germany             |1         |\n",
      "|0         |Greece              |1         |\n",
      "|0         |Hong Kong           |1         |\n",
      "|0         |Iceland             |1         |\n",
      "|0         |Israel              |1         |\n",
      "|0         |Italy               |1         |\n",
      "|0         |Japan               |1         |\n",
      "|0         |Lebanon             |1         |\n",
      "|0         |Lithuania           |1         |\n",
      "|0         |Malta               |1         |\n",
      "|0         |Netherlands         |1         |\n",
      "|0         |Norway              |1         |\n",
      "|0         |Poland              |1         |\n",
      "|0         |Portugal            |1         |\n",
      "|0         |RSA                 |1         |\n",
      "|0         |Saudi Arabia        |1         |\n",
      "|0         |Singapore           |1         |\n",
      "|7         |Singapore           |1         |\n",
      "|0         |Spain               |1         |\n",
      "|0         |Sweden              |1         |\n",
      "|0         |Switzerland         |1         |\n",
      "|0         |USA                 |1         |\n",
      "|0         |United Arab Emirates|1         |\n",
      "|0         |United Kingdom      |1         |\n",
      "|3         |United Kingdom      |1         |\n",
      "|6         |United Kingdom      |1         |\n",
      "|7         |United Kingdom      |1         |\n",
      "|0         |Unspecified         |1         |\n",
      "+----------+--------------------+----------+\n",
      "\n"
     ]
    },
    {
     "name": "stderr",
     "output_type": "stream",
     "text": [
      "                                                                                \r"
     ]
    }
   ],
   "source": [
    "#Pandas version\n",
    "#pandas_df = predictions.select(\"StockCode\",\"CustomerID\", \"Country\", \"prediction\").toPandas()\n",
    "#pandas_df.groupby('Country')['prediction'].nunique()\n",
    "\n",
    "#Spark Version\n",
    "import pyspark.sql.functions as f\n",
    "#predictions.groupby('Country').agg(f.expr('count(distinct prediction)').alias('n_clusters')).show(100,False)\n",
    "predictions.groupby('prediction', 'Country').agg(f.expr('count(distinct prediction)').alias('n_clusters')).sort(\"Country\", \"prediction\").show(100,False)"
   ]
  },
  {
   "cell_type": "markdown",
   "id": "137ea5af",
   "metadata": {},
   "source": [
    "-> All the countries except the UK are only in one or two clusters.  If the data-set wasn't so heavily skewed to UK data, this might be interesting.\n",
    "  \n",
    "**Conclusion** - the results of this analysis are skewed by the fact most of the data is related to the UK anyway."
   ]
  },
  {
   "cell_type": "markdown",
   "id": "fbdf1d4e",
   "metadata": {},
   "source": [
    "#### Check: How many items in each cluster? ####"
   ]
  },
  {
   "cell_type": "code",
   "execution_count": 23,
   "id": "1835fa3b",
   "metadata": {},
   "outputs": [
    {
     "name": "stderr",
     "output_type": "stream",
     "text": [
      "                                                                                \r"
     ]
    },
    {
     "name": "stdout",
     "output_type": "stream",
     "text": [
      "+----------+------+\n",
      "|prediction| count|\n",
      "+----------+------+\n",
      "|         6|     5|\n",
      "|         3|     1|\n",
      "|         7|     4|\n",
      "|         0|107656|\n",
      "+----------+------+\n",
      "\n"
     ]
    }
   ],
   "source": [
    "#### how many items per cluster? ####\n",
    "predictions.groupby('prediction').count().show()"
   ]
  },
  {
   "cell_type": "markdown",
   "id": "201d729c",
   "metadata": {},
   "source": [
    "-> Most of the data is in Cluster 0.  \n",
    "\n",
    "**Conclusion** - any items not in *Cluster 0* are outliers in terms of the Price, Quantity and Day-of-Week features."
   ]
  },
  {
   "cell_type": "markdown",
   "id": "631abe09",
   "metadata": {},
   "source": [
    "#### Programatically get the cluster-IDs for outliers ####"
   ]
  },
  {
   "cell_type": "code",
   "execution_count": null,
   "id": "2bde5086",
   "metadata": {},
   "outputs": [],
   "source": [
    "# programaticaly Get the cluster-ids where count is less than 50, look at those items\n",
    "# To filter on the count, need to rename the count column: https://stackoverflow.com/questions/32119936/dataframe-how-to-groupby-count-then-filter-on-count-in-scala\n",
    "outliers = predictions.groupBy('prediction').count()\\\n",
    "   .withColumnRenamed(\"count\", \"n\")\\\n",
    "   .filter(\"n <= 50\")\\\n",
    "   .sort(\"n\").select(\"prediction\")\n",
    "\n",
    "outliers_list = outliers.select(\"prediction\").rdd.flatMap(lambda x: x).collect()\n",
    "print(\"Outliers\", outliers_list)\n",
    "#for cluster in outliers_list:\n",
    "#    predictions.where(\"prediction = $cluster\")"
   ]
  },
  {
   "cell_type": "code",
   "execution_count": null,
   "id": "404c8db0",
   "metadata": {},
   "outputs": [],
   "source": [
    "#retailOutliers = predictions.isin(outliers_list)\n",
    "retailOutliers = predictions.filter(col(\"prediction\").isin(outliers_list))"
   ]
  },
  {
   "cell_type": "markdown",
   "id": "746a8c7c",
   "metadata": {},
   "source": [
    "#### Visual Inspection of the Outliers Data ####"
   ]
  },
  {
   "cell_type": "code",
   "execution_count": null,
   "id": "edffbfef",
   "metadata": {},
   "outputs": [],
   "source": [
    "retailOutliers.select(\"InvoiceNo\", \"Country\", \"StockCode\", \"Description\", \"Quantity\", \"UnitPrice\", \"day_of_week\", \"prediction\").show()"
   ]
  },
  {
   "cell_type": "markdown",
   "id": "0420072b",
   "metadata": {},
   "source": [
    "**Check** Why is the StockCode=M in Singapore an Outlier?  \n",
    "View all the original test data and see if there are other StockCode = \"M\" records."
   ]
  },
  {
   "cell_type": "code",
   "execution_count": null,
   "id": "dd6dd0fb",
   "metadata": {},
   "outputs": [],
   "source": [
    "# examine data-points in the test data set where Stock Code = \"M\"\n",
    "transformedTest.filter((col(\"StockCode\") == 'M') & (col(\"Country\") == 'Singapore')).show()"
   ]
  },
  {
   "cell_type": "markdown",
   "id": "7720130c",
   "metadata": {},
   "source": [
    "-> There are two other Manual transactions in Singapore, but these are for smaller amounts."
   ]
  },
  {
   "cell_type": "markdown",
   "id": "6784ca88",
   "metadata": {},
   "source": [
    "**Check** do we have negative quantities with Unit Price = Zero in the test data set in cluster Zero (non outliers)?"
   ]
  },
  {
   "cell_type": "code",
   "execution_count": null,
   "id": "8ee528b5",
   "metadata": {},
   "outputs": [],
   "source": [
    "transformedTest.filter((col(\"UnitPrice\") == 0) & (col(\"Quantity\") < 0)).show()"
   ]
  },
  {
   "cell_type": "markdown",
   "id": "c00849a5",
   "metadata": {},
   "source": [
    "-> Other refunds exist, but for smaller amounts"
   ]
  },
  {
   "cell_type": "markdown",
   "id": "513f8498",
   "metadata": {},
   "source": [
    "**Conclusion** The KMeans cluster is identifying unusual transactions, these tend to be refunds or unusually high Unit Price values."
   ]
  },
  {
   "cell_type": "code",
   "execution_count": null,
   "id": "9dbadeec",
   "metadata": {},
   "outputs": [],
   "source": [
    "spark.stop()"
   ]
  },
  {
   "cell_type": "code",
   "execution_count": null,
   "id": "063241fa",
   "metadata": {},
   "outputs": [],
   "source": []
  },
  {
   "cell_type": "code",
   "execution_count": null,
   "id": "1700b80c",
   "metadata": {},
   "outputs": [],
   "source": []
  }
 ],
 "metadata": {
  "kernelspec": {
   "display_name": "Python 3 (ipykernel)",
   "language": "python",
   "name": "python3"
  },
  "language_info": {
   "codemirror_mode": {
    "name": "ipython",
    "version": 3
   },
   "file_extension": ".py",
   "mimetype": "text/x-python",
   "name": "python",
   "nbconvert_exporter": "python",
   "pygments_lexer": "ipython3",
   "version": "3.10.9"
  }
 },
 "nbformat": 4,
 "nbformat_minor": 5
}
